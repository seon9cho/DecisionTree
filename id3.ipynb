{
 "cells": [
  {
   "cell_type": "code",
   "execution_count": 545,
   "metadata": {},
   "outputs": [],
   "source": [
    "import arff\n",
    "import numpy as np\n",
    "from sklearn.base import BaseEstimator, ClassifierMixin\n",
    "from collections import Counter\n",
    "from sklearn.model_selection import train_test_split\n",
    "from sklearn.model_selection import cross_validate"
   ]
  },
  {
   "cell_type": "code",
   "execution_count": 635,
   "metadata": {},
   "outputs": [],
   "source": [
    "### NOTE: The only methods you are required to have are:\n",
    "#   * predict\n",
    "#   * fit\n",
    "#   * score\n",
    "def entropy(p):\n",
    "    if p > 0:\n",
    "        return -p * np.log2(p)\n",
    "    else:\n",
    "        return 0\n",
    "\n",
    "class DTClassifier(BaseEstimator,ClassifierMixin):\n",
    "\n",
    "    def __init__(self):\n",
    "        \"\"\" Initialize class with chosen hyperparameters.\n",
    "        Args:\n",
    "            hidden_layer_widths (list(int)): A list of integers which defines the width of each hidden layer\n",
    "            lr (float): A learning rate / step size.\n",
    "            shuffle: Whether to shuffle the training data each epoch. DO NOT SHUFFLE for evaluation / debug datasets.\n",
    "        Example:\n",
    "            DT  = DTClassifier()\n",
    "        \"\"\"\n",
    "        self.graph = {():[]}\n",
    "\n",
    "    def fit(self, X, y):\n",
    "        \"\"\" Fit the data; Make the Desicion tree\n",
    "        Args:\n",
    "            X (array-like): A 2D numpy array with the training data, excluding targets\n",
    "            y (array-like): A 2D numpy array with the training targets\n",
    "        Returns:\n",
    "            self: this allows this to be chained, e.g. model.fit(X,y).predict(X_test)\n",
    "        \"\"\"\n",
    "        X = X.astype(int)\n",
    "        y = y.flatten().astype(int)\n",
    "        self.num_features = X.shape[1]\n",
    "        self.feature_class = X.max(axis=0) + 1\n",
    "        self.num_class = int(y.max()) + 1\n",
    "        self._split(X, y, [], (), ())\n",
    "        self.root = (self.graph[()][0],)\n",
    "        return self\n",
    "    \n",
    "    def _split(self, X, y, mask, parent, path):\n",
    "        gain = self.calc_gain(X, y, mask)\n",
    "        split_on = gain.argmin()\n",
    "        node = path + (split_on,)\n",
    "        self.graph[parent].append(split_on)\n",
    "        self.graph[node] = []\n",
    "        mask.append(split_on)\n",
    "        F_split = X[:, split_on]\n",
    "        for i in range(self.feature_class[split_on]):\n",
    "            y_p = y[F_split==i]\n",
    "            if len(y_p) == 0 or len(mask) > self.num_features:\n",
    "                vals, counts = np.unique(y, return_counts=True)\n",
    "                ind = counts.argmax()\n",
    "                self.graph[node].append([vals[ind]])\n",
    "            elif len(set(y_p)) == 1:\n",
    "                y_val = set(y_p).pop()\n",
    "                self.graph[node].append([y_val])\n",
    "            else:\n",
    "                new_path = path + ((split_on, i),)\n",
    "                self._split(X[F_split==i], y[F_split==i], mask.copy(), node, new_path)\n",
    "        \n",
    "    def calc_gain(self, X, y, mask):\n",
    "        n = X.shape[0]\n",
    "        gain = []\n",
    "        for i in range(self.num_features):\n",
    "            if i in mask:\n",
    "                gain.append(np.inf)\n",
    "                continue\n",
    "            F = X[:, i]\n",
    "            P = np.vstack((F, y)).T\n",
    "            info = 0\n",
    "            for j in range(int(F.max()) + 1):\n",
    "                d = sum(F==j)\n",
    "                ratio = d / n\n",
    "                if d == 0:\n",
    "                    continue\n",
    "                curr_entropy = sum(entropy(sum(P[F==j][:,-1]==k) / d) for k in range(self.num_class))\n",
    "                info += ratio*curr_entropy\n",
    "            gain.append(info)\n",
    "        return np.array(gain)\n",
    "        \n",
    "    def predict(self, X):\n",
    "        \"\"\" Predict all classes for a dataset X\n",
    "        Args:\n",
    "            X (array-like): A 2D numpy array with the training data, excluding targets\n",
    "        Returns:\n",
    "            array, shape (n_samples,)\n",
    "                Predicted target values per element in X.\n",
    "        \"\"\"\n",
    "        X = X.astype(int)\n",
    "        y_hat = []\n",
    "        for x in X:\n",
    "            y_hat.append(self._find(x, self.root))\n",
    "        return np.array(y_hat).reshape(-1, 1)\n",
    "\n",
    "    def _find(self, x, node):\n",
    "        z = x[node[-1]]\n",
    "        v = self.graph[node][x[node[-1]]]\n",
    "        if type(v) == list:\n",
    "            return v[0]\n",
    "        else:\n",
    "            node = node[:-1] + ((node[-1], z),) + (v,)\n",
    "            return self._find(x, node)\n",
    "    \n",
    "    def score(self, X, y):\n",
    "        \"\"\" Return accuracy of model on a given dataset. Must implement own score function.\n",
    "        Args:\n",
    "            X (array-like): A 2D numpy array with data, excluding targets\n",
    "            y (array-li    def _shuffle_data(self, X, y):\n",
    "        \"\"\"\n",
    "        y = y.astype(int)\n",
    "        y_hat = self.predict(X)\n",
    "        return (y_hat == y).sum() / len(y)\n"
   ]
  },
  {
   "cell_type": "markdown",
   "metadata": {},
   "source": [
    "# Debug"
   ]
  },
  {
   "cell_type": "code",
   "execution_count": 636,
   "metadata": {},
   "outputs": [
    {
     "name": "stdout",
     "output_type": "stream",
     "text": [
      "Accuracy = [0.33]\n"
     ]
    }
   ],
   "source": [
    "lenses = arff.Arff(arff=r'lenses.arff', label_count=3)\n",
    "all_lenses = arff.Arff(arff=r'all_lenses.arff', label_count=3)\n",
    "X_train = lenses[:, :-1].astype(int)\n",
    "y_train = lenses[:, -1].reshape(-1, 1).astype(int)\n",
    "X_test = all_lenses[:, :-1].astype(int)\n",
    "y_test = all_lenses[:, -1].reshape(-1, 1).astype(int)\n",
    "dt = DTClassifier()\n",
    "dt.fit(X_train, y_train)\n",
    "pred = dt.predict(X_test)\n",
    "acc = dt.score(X_test, y_test)\n",
    "np.savetxt(\"pred_lenses2.csv\", pred, delimiter=',')\n",
    "print(\"Accuracy = [{:.2f}]\".format(acc))"
   ]
  },
  {
   "cell_type": "code",
   "execution_count": 638,
   "metadata": {},
   "outputs": [
    {
     "data": {
      "text/plain": [
       "0.75"
      ]
     },
     "execution_count": 638,
     "metadata": {},
     "output_type": "execute_result"
    }
   ],
   "source": [
    "lenses = arff.Arff(arff=r'lenses.arff', label_count=3)\n",
    "all_lenses = arff.Arff(arff=r'all_lenses.arff', label_count=3)\n",
    "X = lenses[:, :-1].astype(int)\n",
    "y = lenses[:, -1].reshape(-1, 1).astype(int)\n",
    "X_train, X_test, y_train, y_test = train_test_split(X, y, test_size=0.3)\n",
    "dt = DTClassifier()\n",
    "dt.fit(X_train, y_train)\n",
    "pred = dt.predict(X_test)\n",
    "acc = dt.score(X_test, y_test)\n",
    "acc"
   ]
  },
  {
   "cell_type": "markdown",
   "metadata": {},
   "source": [
    "# Evaluation"
   ]
  },
  {
   "cell_type": "code",
   "execution_count": 639,
   "metadata": {},
   "outputs": [
    {
     "name": "stdout",
     "output_type": "stream",
     "text": [
      "Accuracy = [0.15]\n"
     ]
    }
   ],
   "source": [
    "zoo = arff.Arff(arff=r'zoo.arff', label_count=7)\n",
    "all_zoo = arff.Arff(arff=r'all_zoo.arff', label_count=7)\n",
    "X_train = zoo[:, :-1].astype(int)\n",
    "y_train = zoo[:, -1].reshape(-1, 1).astype(int)\n",
    "X_test = all_zoo[:, :-1].astype(int)\n",
    "y_test = all_zoo[:, -1].reshape(-1, 1).astype(int)\n",
    "dt = DTClassifier()\n",
    "dt.fit(X_train, y_train)\n",
    "pred = dt.predict(X_test)\n",
    "acc = dt.score(X_test, y_test)\n",
    "np.savetxt(\"pred_zoo.csv\", pred, delimiter=',')\n",
    "print(\"Accuracy = [{:.2f}]\".format(acc))"
   ]
  },
  {
   "cell_type": "markdown",
   "metadata": {},
   "source": [
    "# Cars"
   ]
  },
  {
   "cell_type": "code",
   "execution_count": 640,
   "metadata": {},
   "outputs": [
    {
     "data": {
      "text/plain": [
       "{'fit_time': array([0.38768101, 0.38428402, 0.40556908, 0.37191892, 0.40394902,\n",
       "        0.40693474, 0.37606621, 0.39530015, 0.35955286, 0.38198876]),\n",
       " 'score_time': array([0.00093985, 0.00095487, 0.00087571, 0.00090718, 0.00086689,\n",
       "        0.00090098, 0.00090885, 0.00093699, 0.00090337, 0.0011282 ]),\n",
       " 'test_score': array([0.89655172, 0.91954023, 0.91954023, 0.94827586, 0.95375723,\n",
       "        0.93023256, 0.90697674, 0.94767442, 0.94186047, 0.9122807 ]),\n",
       " 'train_score': array([1., 1., 1., 1., 1., 1., 1., 1., 1., 1.])}"
      ]
     },
     "execution_count": 640,
     "metadata": {},
     "output_type": "execute_result"
    }
   ],
   "source": [
    "cars = arff.Arff(arff=r'cars.arff', label_count=4)\n",
    "np.random.shuffle(cars[:])\n",
    "X = cars[:, :-1]\n",
    "y = cars[:, -1].reshape(-1, 1)\n",
    "dt = DTClassifier()\n",
    "cv_results = cross_validate(dt, X, y, scoring='accuracy', return_train_score=True, cv=10)\n",
    "cv_results"
   ]
  },
  {
   "cell_type": "code",
   "execution_count": 641,
   "metadata": {},
   "outputs": [
    {
     "data": {
      "text/plain": [
       "0.9276690159211434"
      ]
     },
     "execution_count": 641,
     "metadata": {},
     "output_type": "execute_result"
    }
   ],
   "source": [
    "cv_results['test_score'].mean()"
   ]
  },
  {
   "cell_type": "code",
   "execution_count": 643,
   "metadata": {},
   "outputs": [
    {
     "data": {
      "text/plain": [
       "{(): [5],\n",
       " (5,): [[0], 3, 3],\n",
       " ((5, 1), 3): [[0], 0, 0],\n",
       " ((5, 1), (3, 1), 0): [1, 4, 1, 1],\n",
       " ((5, 1), (3, 1), (0, 0), 1): [[0], [0], 4, 4],\n",
       " ((5, 1), (3, 1), (0, 0), (1, 2), 4): [[0], 2, [1]],\n",
       " ((5, 1), (3, 1), (0, 0), (1, 2), (4, 1), 2): [[0], [0], [1], [1]],\n",
       " ((5, 1), (3, 1), (0, 0), (1, 3), 4): [[0], 2, [1]],\n",
       " ((5, 1), (3, 1), (0, 0), (1, 3), (4, 1), 2): [[0], [0], [1], [1]],\n",
       " ((5, 1), (3, 1), (0, 1), 4): [[0], 2, 1],\n",
       " ((5, 1), (3, 1), (0, 1), (4, 1), 2): [[0], [0], 1, 1],\n",
       " ((5, 1), (3, 1), (0, 1), (4, 1), (2, 2), 1): [[0], [1], [1], [1]],\n",
       " ((5, 1), (3, 1), (0, 1), (4, 1), (2, 3), 1): [[0], [1], [1], [1]],\n",
       " ((5, 1), (3, 1), (0, 1), (4, 2), 1): [[0], [1], [1], [1]],\n",
       " ((5, 1), (3, 1), (0, 2), 1): [4, 4, [1], 4],\n",
       " ((5, 1), (3, 1), (0, 2), (1, 0), 4): [[0], 2, [1]],\n",
       " ((5, 1), (3, 1), (0, 2), (1, 0), (4, 1), 2): [[0], [0], [1], [1]],\n",
       " ((5, 1), (3, 1), (0, 2), (1, 1), 4): [[0], 2, [1]],\n",
       " ((5, 1), (3, 1), (0, 2), (1, 1), (4, 1), 2): [[0], [0], [1], [1]],\n",
       " ((5, 1), (3, 1), (0, 2), (1, 3), 4): [[1], 2, [2]],\n",
       " ((5, 1), (3, 1), (0, 2), (1, 3), (4, 1), 2): [[1], [1], [2], [2]],\n",
       " ((5, 1), (3, 1), (0, 3), 1): [4, [1], 4, 4],\n",
       " ((5, 1), (3, 1), (0, 3), (1, 0), 4): [[0], 2, [1]],\n",
       " ((5, 1), (3, 1), (0, 3), (1, 0), (4, 1), 2): [[0], [0], [1], [1]],\n",
       " ((5, 1), (3, 1), (0, 3), (1, 2), 4): [[1], 2, [2]],\n",
       " ((5, 1), (3, 1), (0, 3), (1, 2), (4, 1), 2): [[1], [1], [2], [2]],\n",
       " ((5, 1), (3, 1), (0, 3), (1, 3), 4): [[1], 2, [2]],\n",
       " ((5, 1), (3, 1), (0, 3), (1, 3), (4, 1), 2): [[1], [1], [2], [2]],\n",
       " ((5, 1), (3, 2), 0): [1, 4, 1, 1],\n",
       " ((5, 1), (3, 2), (0, 0), 1): [[0], [0], 4, 4],\n",
       " ((5, 1), (3, 2), (0, 0), (1, 2), 4): [[0], 2, [1]],\n",
       " ((5, 1), (3, 2), (0, 0), (1, 2), (4, 1), 2): [[0], [1], [1], [1]],\n",
       " ((5, 1), (3, 2), (0, 0), (1, 3), 4): [[0], 2, [1]],\n",
       " ((5, 1), (3, 2), (0, 0), (1, 3), (4, 1), 2): [[0], [1], [1], [1]],\n",
       " ((5, 1), (3, 2), (0, 1), 4): [[0], 1, 1],\n",
       " ((5, 1), (3, 2), (0, 1), (4, 1), 1): [[0], 2, 2, 2],\n",
       " ((5, 1), (3, 2), (0, 1), (4, 1), (1, 1), 2): [[0], [1], [1], [1]],\n",
       " ((5, 1), (3, 2), (0, 1), (4, 1), (1, 2), 2): [[0], [1], [1], [1]],\n",
       " ((5, 1), (3, 2), (0, 1), (4, 1), (1, 3), 2): [[0], [1], [1], [1]],\n",
       " ((5, 1), (3, 2), (0, 1), (4, 2), 1): [[0], [1], [1], [1]],\n",
       " ((5, 1), (3, 2), (0, 2), 1): [4, 4, 2, 4],\n",
       " ((5, 1), (3, 2), (0, 2), (1, 0), 4): [[0], 2, [1]],\n",
       " ((5, 1), (3, 2), (0, 2), (1, 0), (4, 1), 2): [[0], [1], [1], [1]],\n",
       " ((5, 1), (3, 2), (0, 2), (1, 1), 4): [[0], 2, [1]],\n",
       " ((5, 1), (3, 2), (0, 2), (1, 1), (4, 1), 2): [[0], [1], [1], [1]],\n",
       " ((5, 1), (3, 2), (0, 2), (1, 2), 2): [4, [1], [1], [1]],\n",
       " ((5, 1), (3, 2), (0, 2), (1, 2), (2, 0), 4): [[0], [1], [1]],\n",
       " ((5, 1), (3, 2), (0, 2), (1, 3), 4): [2, 2, [2]],\n",
       " ((5, 1), (3, 2), (0, 2), (1, 3), (4, 0), 2): [[0], [1], [1], [1]],\n",
       " ((5, 1), (3, 2), (0, 2), (1, 3), (4, 1), 2): [[1], [2], [2], [2]],\n",
       " ((5, 1), (3, 2), (0, 3), 1): [4, 2, 4, 4],\n",
       " ((5, 1), (3, 2), (0, 3), (1, 0), 4): [[0], 2, [1]],\n",
       " ((5, 1), (3, 2), (0, 3), (1, 0), (4, 1), 2): [[0], [1], [1], [1]],\n",
       " ((5, 1), (3, 2), (0, 3), (1, 1), 2): [4, [1], [1], [1]],\n",
       " ((5, 1), (3, 2), (0, 3), (1, 1), (2, 0), 4): [[0], [1], [1]],\n",
       " ((5, 1), (3, 2), (0, 3), (1, 2), 4): [2, 2, [2]],\n",
       " ((5, 1), (3, 2), (0, 3), (1, 2), (4, 0), 2): [[0], [1], [1], [1]],\n",
       " ((5, 1), (3, 2), (0, 3), (1, 2), (4, 1), 2): [[1], [2], [2], [2]],\n",
       " ((5, 1), (3, 2), (0, 3), (1, 3), 4): [2, 2, [2]],\n",
       " ((5, 1), (3, 2), (0, 3), (1, 3), (4, 0), 2): [[0], [1], [1], [1]],\n",
       " ((5, 1), (3, 2), (0, 3), (1, 3), (4, 1), 2): [[1], [2], [2], [2]],\n",
       " ((5, 2), 3): [[0], 0, 0],\n",
       " ((5, 2), (3, 1), 0): [1, 1, 1, 1],\n",
       " ((5, 2), (3, 1), (0, 0), 1): [[0], [0], [1], [1]],\n",
       " ((5, 2), (3, 1), (0, 1), 1): [[0], [1], [1], [1]],\n",
       " ((5, 2), (3, 1), (0, 2), 1): [[1], [1], 4, 4],\n",
       " ((5, 2), (3, 1), (0, 2), (1, 2), 4): [[1], 2, [3]],\n",
       " ((5, 2), (3, 1), (0, 2), (1, 2), (4, 1), 2): [[1], [1], [3], [3]],\n",
       " ((5, 2), (3, 1), (0, 2), (1, 3), 4): [[2], 2, [3]],\n",
       " ((5, 2), (3, 1), (0, 2), (1, 3), (4, 1), 2): [[2], [2], [3], [3]],\n",
       " ((5, 2), (3, 1), (0, 3), 1): [[1], 4, 4, 4],\n",
       " ((5, 2), (3, 1), (0, 3), (1, 1), 4): [[1], 2, [3]],\n",
       " ((5, 2), (3, 1), (0, 3), (1, 1), (4, 1), 2): [[1], [1], [3], [3]],\n",
       " ((5, 2), (3, 1), (0, 3), (1, 2), 4): [[2], 2, [3]],\n",
       " ((5, 2), (3, 1), (0, 3), (1, 2), (4, 1), 2): [[2], [2], [3], [3]],\n",
       " ((5, 2), (3, 1), (0, 3), (1, 3), 4): [[2], 2, [3]],\n",
       " ((5, 2), (3, 1), (0, 3), (1, 3), (4, 1), 2): [[2], [2], [3], [3]],\n",
       " ((5, 2), (3, 2), 0): [1, 1, 1, 1],\n",
       " ((5, 2), (3, 2), (0, 0), 1): [[0], [0], 2, 2],\n",
       " ((5, 2), (3, 2), (0, 0), (1, 2), 2): [4, [1], [1], [1]],\n",
       " ((5, 2), (3, 2), (0, 0), (1, 2), (2, 0), 4): [[0], [1], [1]],\n",
       " ((5, 2), (3, 2), (0, 0), (1, 3), 2): [4, [1], [1], [1]],\n",
       " ((5, 2), (3, 2), (0, 0), (1, 3), (2, 0), 4): [[0], [1], [1]],\n",
       " ((5, 2), (3, 2), (0, 1), 1): [[0], 2, 2, 2],\n",
       " ((5, 2), (3, 2), (0, 1), (1, 1), 2): [4, [1], [1], [1]],\n",
       " ((5, 2), (3, 2), (0, 1), (1, 1), (2, 0), 4): [[0], [1], [1]],\n",
       " ((5, 2), (3, 2), (0, 1), (1, 2), 2): [4, [1], [1], [1]],\n",
       " ((5, 2), (3, 2), (0, 1), (1, 2), (2, 0), 4): [[0], [1], [1]],\n",
       " ((5, 2), (3, 2), (0, 1), (1, 3), 2): [4, [1], [1], [1]],\n",
       " ((5, 2), (3, 2), (0, 1), (1, 3), (2, 0), 4): [[0], [1], [1]],\n",
       " ((5, 2), (3, 2), (0, 2), 1): [2, 2, 4, 4],\n",
       " ((5, 2), (3, 2), (0, 2), (1, 0), 2): [4, [1], [1], [1]],\n",
       " ((5, 2), (3, 2), (0, 2), (1, 0), (2, 0), 4): [[0], [1], [1]],\n",
       " ((5, 2), (3, 2), (0, 2), (1, 1), 2): [4, [1], [1], [1]],\n",
       " ((5, 2), (3, 2), (0, 2), (1, 1), (2, 0), 4): [[0], [1], [1]],\n",
       " ((5, 2), (3, 2), (0, 2), (1, 2), 4): [2, 2, [3]],\n",
       " ((5, 2), (3, 2), (0, 2), (1, 2), (4, 0), 2): [[0], [1], [1], [1]],\n",
       " ((5, 2), (3, 2), (0, 2), (1, 2), (4, 1), 2): [[1], [3], [3], [3]],\n",
       " ((5, 2), (3, 2), (0, 2), (1, 3), 4): [2, 2, [3]],\n",
       " ((5, 2), (3, 2), (0, 2), (1, 3), (4, 0), 2): [[0], [2], [2], [2]],\n",
       " ((5, 2), (3, 2), (0, 2), (1, 3), (4, 1), 2): [[2], [3], [3], [3]],\n",
       " ((5, 2), (3, 2), (0, 3), 1): [2, 4, 4, 4],\n",
       " ((5, 2), (3, 2), (0, 3), (1, 0), 2): [4, [1], [1], [1]],\n",
       " ((5, 2), (3, 2), (0, 3), (1, 0), (2, 0), 4): [[0], [1], [1]],\n",
       " ((5, 2), (3, 2), (0, 3), (1, 1), 4): [2, 2, [3]],\n",
       " ((5, 2), (3, 2), (0, 3), (1, 1), (4, 0), 2): [[0], [1], [1], [1]],\n",
       " ((5, 2), (3, 2), (0, 3), (1, 1), (4, 1), 2): [[1], [3], [3], [3]],\n",
       " ((5, 2), (3, 2), (0, 3), (1, 2), 4): [2, 2, [3]],\n",
       " ((5, 2), (3, 2), (0, 3), (1, 2), (4, 0), 2): [[0], [2], [2], [2]],\n",
       " ((5, 2), (3, 2), (0, 3), (1, 2), (4, 1), 2): [[2], [3], [3], [3]],\n",
       " ((5, 2), (3, 2), (0, 3), (1, 3), 4): [2, 2, [3]],\n",
       " ((5, 2), (3, 2), (0, 3), (1, 3), (4, 0), 2): [[0], [2], [2], [2]],\n",
       " ((5, 2), (3, 2), (0, 3), (1, 3), (4, 1), 2): [[2], [3], [3], [3]]}"
      ]
     },
     "execution_count": 643,
     "metadata": {},
     "output_type": "execute_result"
    }
   ],
   "source": [
    "dt.fit(X, y)\n",
    "dt.graph"
   ]
  },
  {
   "cell_type": "markdown",
   "metadata": {},
   "source": [
    "# Voting"
   ]
  },
  {
   "cell_type": "code",
   "execution_count": 644,
   "metadata": {},
   "outputs": [
    {
     "data": {
      "text/plain": [
       "{'fit_time': array([0.23411679, 0.20066595, 0.21653795, 0.21369505, 0.21226382,\n",
       "        0.18733215, 0.18990588, 0.20674515, 0.21313   , 0.22836685]),\n",
       " 'score_time': array([0.00071216, 0.00039983, 0.0003891 , 0.00039673, 0.00043392,\n",
       "        0.00035882, 0.00036812, 0.00052404, 0.00038719, 0.00047088]),\n",
       " 'test_score': array([0.88636364, 0.86363636, 1.        , 0.95454545, 1.        ,\n",
       "        0.93181818, 0.93181818, 0.93023256, 0.92857143, 0.97619048]),\n",
       " 'train_score': array([1., 1., 1., 1., 1., 1., 1., 1., 1., 1.])}"
      ]
     },
     "execution_count": 644,
     "metadata": {},
     "output_type": "execute_result"
    }
   ],
   "source": [
    "vote = arff.Arff(arff=r'voting.arff', label_count=1)\n",
    "np.random.shuffle(vote[:])\n",
    "X = vote[:, :-1]\n",
    "y = vote[:, -1].reshape(-1, 1)\n",
    "for i in range(X.shape[1]):\n",
    "    X[:, i][np.isnan(X[:, i])] = 2\n",
    "dt = DTClassifier()\n",
    "cv_results = cross_validate(dt, X, y, scoring='accuracy', return_train_score=True, cv=10)\n",
    "cv_results"
   ]
  },
  {
   "cell_type": "code",
   "execution_count": 645,
   "metadata": {},
   "outputs": [
    {
     "data": {
      "text/plain": [
       "0.9403176281083259"
      ]
     },
     "execution_count": 645,
     "metadata": {},
     "output_type": "execute_result"
    }
   ],
   "source": [
    "cv_results['test_score'].mean()"
   ]
  },
  {
   "cell_type": "code",
   "execution_count": 646,
   "metadata": {},
   "outputs": [
    {
     "data": {
      "text/plain": [
       "{(): [3],\n",
       " (3,): [2, 10, 8],\n",
       " ((3, 0), 2): [11, [0], [0]],\n",
       " ((3, 0), (2, 0), 11): [10, [0], [1]],\n",
       " ((3, 0), (2, 0), (11, 0), 10): [5, [0], [0]],\n",
       " ((3, 0), (2, 0), (11, 0), (10, 0), 5): [13, [0], [0]],\n",
       " ((3, 0), (2, 0), (11, 0), (10, 0), (5, 0), 13): [[0], [1], [0]],\n",
       " ((3, 1), 10): [14, 2, [1]],\n",
       " ((3, 1), (10, 0), 14): [2, 9, [1]],\n",
       " ((3, 1), (10, 0), (14, 0), 2): [[1], 15, [1]],\n",
       " ((3, 1), (10, 0), (14, 0), (2, 1), 15): [[1], [1], 0],\n",
       " ((3, 1), (10, 0), (14, 0), (2, 1), (15, 2), 0): [[0], [1], [0]],\n",
       " ((3, 1), (10, 0), (14, 1), 9): [15, [1], [1]],\n",
       " ((3, 1), (10, 0), (14, 1), (9, 0), 15): [[1], [0], 1],\n",
       " ((3, 1), (10, 0), (14, 1), (9, 0), (15, 2), 1): [[0], [1], [0]],\n",
       " ((3, 1), (10, 1), 2): [4, 6, [0]],\n",
       " ((3, 1), (10, 1), (2, 0), 4): [[0], 15, [1]],\n",
       " ((3, 1), (10, 1), (2, 0), (4, 1), 15): [12, [1], 0],\n",
       " ((3, 1), (10, 1), (2, 0), (4, 1), (15, 0), 12): [[0], 1, [1]],\n",
       " ((3, 1), (10, 1), (2, 0), (4, 1), (15, 0), (12, 1), 1): [0, [1], [1]],\n",
       " ((3, 1), (10, 1), (2, 0), (4, 1), (15, 0), (12, 1), (1, 0), 0): [[0],\n",
       "  [1],\n",
       "  [0]],\n",
       " ((3, 1), (10, 1), (2, 0), (4, 1), (15, 2), 0): [[1], [0], [1]],\n",
       " ((3, 1), (10, 1), (2, 1), 6): [[0], [1], [0]],\n",
       " ((3, 2), 8): [[0], 6, [1]],\n",
       " ((3, 2), (8, 1), 6): [[1], [0], [0]]}"
      ]
     },
     "execution_count": 646,
     "metadata": {},
     "output_type": "execute_result"
    }
   ],
   "source": [
    "dt.fit(X, y)\n",
    "dt.graph"
   ]
  },
  {
   "cell_type": "markdown",
   "metadata": {},
   "source": [
    "# Scikit-learn"
   ]
  },
  {
   "cell_type": "code",
   "execution_count": 648,
   "metadata": {},
   "outputs": [],
   "source": [
    "from sklearn.tree import DecisionTreeClassifier as DTC"
   ]
  },
  {
   "cell_type": "markdown",
   "metadata": {},
   "source": [
    "## Cars"
   ]
  },
  {
   "cell_type": "code",
   "execution_count": 701,
   "metadata": {},
   "outputs": [
    {
     "name": "stdout",
     "output_type": "stream",
     "text": [
      "[0.96551724 0.97126437 0.99425287 0.97701149 0.96531792 0.97674419\n",
      " 0.97674419 0.97674419 0.98837209 0.97660819]\n",
      "0.9768576734383931\n",
      "[0.97701149 0.97701149 0.99425287 0.98850575 0.97687861 0.96511628\n",
      " 0.97674419 0.97674419 0.98837209 0.98830409]\n",
      "0.9808941059665465\n",
      "[0.95977011 0.98275862 0.98275862 0.97126437 0.97687861 0.97674419\n",
      " 0.98255814 0.97674419 0.97674419 0.97660819]\n",
      "0.9762829221663616\n"
     ]
    }
   ],
   "source": [
    "cars = arff.Arff(arff=r'cars.arff', label_count=4)\n",
    "np.random.shuffle(cars[:])\n",
    "X = cars[:, :-1]\n",
    "y = cars[:, -1].reshape(-1, 1)\n",
    "dt = DTC(criterion=\"entropy\", random_state=0)\n",
    "cv_results = cross_validate(dt, X, y, scoring='accuracy', return_train_score=True, cv=10)\n",
    "print(cv_results['test_score'])\n",
    "print(cv_results['test_score'].mean())\n",
    "\n",
    "dt = DTC(random_state=0)\n",
    "cv_results = cross_validate(dt, X, y, scoring='accuracy', return_train_score=True, cv=10)\n",
    "print(cv_results['test_score'])\n",
    "print(cv_results['test_score'].mean())\n",
    "\n",
    "dt = DTC(max_depth=10, min_samples_split=3, random_state=0)\n",
    "cv_results = cross_validate(dt, X, y, scoring='accuracy', return_train_score=True, cv=10)\n",
    "print(cv_results['test_score'])\n",
    "print(cv_results['test_score'].mean())"
   ]
  },
  {
   "cell_type": "markdown",
   "metadata": {},
   "source": [
    "## Voting"
   ]
  },
  {
   "cell_type": "code",
   "execution_count": 710,
   "metadata": {},
   "outputs": [
    {
     "name": "stdout",
     "output_type": "stream",
     "text": [
      "[0.97126437 0.98275862 0.99425287 0.97126437 0.97687861 0.98255814\n",
      " 0.98837209 0.99418605 0.98255814 0.98245614]\n",
      "0.9826549401557347\n",
      "[0.98850575 0.98275862 1.         0.97126437 0.98265896 0.97674419\n",
      " 0.99418605 0.99418605 0.98837209 0.97660819]\n",
      "0.9855284254397283\n",
      "[0.98275862 0.95402299 0.96551724 0.95402299 0.96531792 0.96511628\n",
      " 0.97674419 0.95930233 0.99418605 0.94736842]\n",
      "0.9664357016417539\n"
     ]
    }
   ],
   "source": [
    "vote = arff.Arff(arff=r'cars.arff', label_count=4)\n",
    "np.random.shuffle(vote[:])\n",
    "X = vote[:, :-1]\n",
    "y = vote[:, -1].reshape(-1, 1)\n",
    "dt = DTC(criterion=\"entropy\", random_state=0)\n",
    "cv_results = cross_validate(dt, X, y, scoring='accuracy', return_train_score=True, cv=10)\n",
    "print(cv_results['test_score'])\n",
    "print(cv_results['test_score'].mean())\n",
    "\n",
    "dt = DTC(random_state=0)\n",
    "cv_results = cross_validate(dt, X, y, scoring='accuracy', return_train_score=True, cv=10)\n",
    "print(cv_results['test_score'])\n",
    "print(cv_results['test_score'].mean())\n",
    "\n",
    "dt = DTC(min_impurity_decrease=0.001, random_state=0)\n",
    "cv_results = cross_validate(dt, X, y, scoring='accuracy', return_train_score=True, cv=10)\n",
    "print(cv_results['test_score'])\n",
    "print(cv_results['test_score'].mean())"
   ]
  },
  {
   "cell_type": "markdown",
   "metadata": {},
   "source": [
    "## Covtype"
   ]
  },
  {
   "cell_type": "code",
   "execution_count": 777,
   "metadata": {},
   "outputs": [],
   "source": [
    "from sklearn.datasets import fetch_covtype\n",
    "from sklearn import tree"
   ]
  },
  {
   "cell_type": "code",
   "execution_count": 732,
   "metadata": {},
   "outputs": [],
   "source": [
    "data = fetch_covtype()\n",
    "X = data.data\n",
    "y = data.target.reshape(-1, 1)"
   ]
  },
  {
   "cell_type": "code",
   "execution_count": 739,
   "metadata": {},
   "outputs": [],
   "source": [
    "Xy = np.hstack((X, y))\n",
    "np.random.shuffle(Xy)\n",
    "X = Xy[:, :-1]\n",
    "y = Xy[:, -1].reshape(-1, 1)\n",
    "X_train, X_test, y_train, y_test = train_test_split(X, y, test_size=0.3)"
   ]
  },
  {
   "cell_type": "code",
   "execution_count": 779,
   "metadata": {},
   "outputs": [
    {
     "data": {
      "text/plain": [
       "0.9393416100605838"
      ]
     },
     "execution_count": 779,
     "metadata": {},
     "output_type": "execute_result"
    }
   ],
   "source": [
    "dt = DTC(max_depth=50, criterion=\"entropy\")\n",
    "dt.fit(X_train, y_train)\n",
    "tree.export_graphviz(dt, out_file=\"tree.dot\")\n",
    "dt.score(X_test, y_test)"
   ]
  },
  {
   "cell_type": "code",
   "execution_count": 771,
   "metadata": {},
   "outputs": [
    {
     "data": {
      "text/plain": [
       "0.9332488066825776"
      ]
     },
     "execution_count": 771,
     "metadata": {},
     "output_type": "execute_result"
    }
   ],
   "source": [
    "dt = DTC(max_depth=50, criterion=\"gini\")\n",
    "dt.fit(X_train, y_train)\n",
    "dt.score(X_test, y_test)"
   ]
  },
  {
   "cell_type": "code",
   "execution_count": 781,
   "metadata": {},
   "outputs": [],
   "source": [
    "dt = DTC(max_depth=3, criterion=\"entropy\")\n",
    "dt.fit(X_train, y_train)\n",
    "tree.export_graphviz(dt, out_file=\"tree.dot\")"
   ]
  },
  {
   "cell_type": "code",
   "execution_count": null,
   "metadata": {},
   "outputs": [],
   "source": []
  }
 ],
 "metadata": {
  "kernelspec": {
   "display_name": "Python 3",
   "language": "python",
   "name": "python3"
  },
  "language_info": {
   "codemirror_mode": {
    "name": "ipython",
    "version": 3
   },
   "file_extension": ".py",
   "mimetype": "text/x-python",
   "name": "python",
   "nbconvert_exporter": "python",
   "pygments_lexer": "ipython3",
   "version": "3.6.8"
  }
 },
 "nbformat": 4,
 "nbformat_minor": 2
}
